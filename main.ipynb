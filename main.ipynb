{
 "cells": [
  {
   "cell_type": "code",
   "execution_count": 5,
   "metadata": {},
   "outputs": [],
   "source": [
    "import requests\n",
    "import pandas as pd\n",
    "import json\n",
    "import xmltodict"
   ]
  },
  {
   "cell_type": "code",
   "execution_count": 8,
   "metadata": {},
   "outputs": [],
   "source": [
    "url = \"https://api.entur.io/realtime/v1/rest/vm?datasetId=SKY\"\n",
    "\n",
    "response = requests.get(url)"
   ]
  },
  {
   "cell_type": "code",
   "execution_count": 34,
   "metadata": {},
   "outputs": [
    {
     "name": "stdout",
     "output_type": "stream",
     "text": [
      "{'Longitude': '5.16912999562919', 'Latitude': '60.4455000255257'}\n"
     ]
    }
   ],
   "source": [
    "data = xmltodict.parse(response.text)[\"Siri\"][\"ServiceDelivery\"][\"VehicleMonitoringDelivery\"][\"VehicleActivity\"]\n",
    "#print(json.dumps(data, indent=4))\n",
    "\n",
    "monitoredVehicleJourneyData = [x[\"MonitoredVehicleJourney\"] for x in data]\n",
    "df = pd.DataFrame(monitoredVehicleJourneyData)\n",
    "#df.to_csv(\"bus_data.csv\", index=False)\n",
    "\n",
    "print(df[\"VehicleLocation\"][318])"
   ]
  }
 ],
 "metadata": {
  "kernelspec": {
   "display_name": "Python 3",
   "language": "python",
   "name": "python3"
  },
  "language_info": {
   "codemirror_mode": {
    "name": "ipython",
    "version": 3
   },
   "file_extension": ".py",
   "mimetype": "text/x-python",
   "name": "python",
   "nbconvert_exporter": "python",
   "pygments_lexer": "ipython3",
   "version": "3.11.9"
  }
 },
 "nbformat": 4,
 "nbformat_minor": 2
}
