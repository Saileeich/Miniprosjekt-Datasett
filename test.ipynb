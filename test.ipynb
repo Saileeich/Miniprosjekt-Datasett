{
 "cells": [
  {
   "cell_type": "code",
   "execution_count": 1,
   "metadata": {},
   "outputs": [],
   "source": [
    "import requests\n",
    "import pandas as pd"
   ]
  },
  {
   "cell_type": "code",
   "execution_count": 17,
   "metadata": {},
   "outputs": [
    {
     "name": "stdout",
     "output_type": "stream",
     "text": [
      "200\n",
      "<html>\n",
      "\n",
      "<head>\n",
      "<title>yourserver.com</title>\n",
      "<script type=\"text/javascript\">\n",
      "\n",
      "\n",
      "</script>\n",
      "\n",
      "\n",
      "</head>\n",
      "\n",
      "\n",
      "<body bgcolor=\"#ffffff\" text=\"#000000\">\n",
      "\t<!-- Blank  -->\n",
      "</body>\n",
      "\n",
      "</html>\n",
      "\n",
      "\n",
      "\n"
     ]
    }
   ],
   "source": [
    "url = \"https://api.entur.io/realtime/v1/services/SKY\"\n",
    "\n",
    "siri_request = \"\"\"\n",
    "<?xml version=\"1.0\" encoding=\"UTF-8\"?>\n",
    "<Siri xmlns=\"http://www.siri.org.uk/siri\" version=\"2.0\">\n",
    "    <ServiceRequest>\n",
    "        <RequestTimestamp>2025-02-17T10:15:00Z</RequestTimestamp>\n",
    "        <RequestorRef>saileeich</RequestorRef>\n",
    "        <StopMonitoringRequest version=\"1.3\">\n",
    "            <RequestTimestamp>2025-02-17T10:15:00Z</RequestTimestamp>\n",
    "        </StopMonitoringRequest>\n",
    "    </ServiceRequest>\n",
    "</Siri>\n",
    "\"\"\"\n",
    "\n",
    "headers = {\n",
    "    \"Content-Type\": \"application/xml\",\n",
    "    \"Accept\": \"application/xml\"\n",
    "}\n",
    "\n",
    "response = requests.post(\"https://siri.yourserver.com/siri-endpoint\", data=siri_request, headers=headers)\n",
    "\n",
    "print(response.status_code)\n",
    "print(response.text)"
   ]
  }
 ],
 "metadata": {
  "kernelspec": {
   "display_name": "Python 3",
   "language": "python",
   "name": "python3"
  },
  "language_info": {
   "codemirror_mode": {
    "name": "ipython",
    "version": 3
   },
   "file_extension": ".py",
   "mimetype": "text/x-python",
   "name": "python",
   "nbconvert_exporter": "python",
   "pygments_lexer": "ipython3",
   "version": "3.11.9"
  }
 },
 "nbformat": 4,
 "nbformat_minor": 2
}
